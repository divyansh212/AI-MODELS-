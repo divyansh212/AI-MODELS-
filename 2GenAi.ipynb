{
  "nbformat": 4,
  "nbformat_minor": 0,
  "metadata": {
    "colab": {
      "provenance": [],
      "authorship_tag": "ABX9TyPWADIlfr9Q4wzX/ZY6k/QQ",
      "include_colab_link": true
    },
    "kernelspec": {
      "name": "python3",
      "display_name": "Python 3"
    },
    "language_info": {
      "name": "python"
    }
  },
  "cells": [
    {
      "cell_type": "markdown",
      "metadata": {
        "id": "view-in-github",
        "colab_type": "text"
      },
      "source": [
        "<a href=\"https://colab.research.google.com/github/divyansh212/Generative-ai/blob/main/2GenAi.ipynb\" target=\"_parent\"><img src=\"https://colab.research.google.com/assets/colab-badge.svg\" alt=\"Open In Colab\"/></a>"
      ]
    },
    {
      "cell_type": "code",
      "execution_count": null,
      "metadata": {
        "id": "2LQ7O3VlynEo"
      },
      "outputs": [],
      "source": []
    },
    {
      "cell_type": "markdown",
      "source": [
        "1. Vector Data Base :A vector database is a collection of data that stores\n",
        "    information as mathematical representations. They are used to store and manage large amounts of unstructured data, such as images and videos. Vector databases are used in machine learning to power search, recommendations, and text generation.\n",
        "2. Semantic Search:searching using value of key word based on the sentence\n",
        "   rather than key value itself\n",
        "1. Embedding:It is the numeric represeentation of text or data"
      ],
      "metadata": {
        "id": "W_Tyd-ajynwy"
      }
    },
    {
      "cell_type": "markdown",
      "source": [
        "**Benefitsof vector Data Base:**\n",
        "\n",
        "\n",
        "1.   Fast search\n",
        "2.   optimized storage"
      ],
      "metadata": {
        "id": "tkAp_xMJyyPx"
      }
    },
    {
      "cell_type": "markdown",
      "source": [
        "**TOOLS FOR GEN AI**\n",
        "\n",
        "**LLM MODELS**\n",
        "\n",
        "1.   **GPT4**\n",
        "2.   **LLMA2(open source)**\n",
        "1.   **MISTRAL(open source)**\n",
        "2.   **STABLE DIFFUSION**\n",
        "1.   **DALL-E**\n",
        "\n",
        "**CLOUD SYSTEM**\n",
        "\n",
        "\n",
        "1.   **AZURE OPENAI SERVICE**\n",
        "2.   **AMAZON BEDROCK**\n",
        "\n",
        "\n",
        "**FRAMEWORK**\n",
        "\n",
        "\n",
        "1.   **Langchain**\n",
        "2.  **Hugging face transformer**\n",
        "1.   **pytorch**\n",
        "1.  **tensorflow**"
      ],
      "metadata": {
        "id": "AAUPEwlty7wZ"
      }
    }
  ]
}